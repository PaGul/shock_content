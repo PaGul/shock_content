{
 "cells": [
  {
   "cell_type": "code",
   "execution_count": null,
   "metadata": {
    "collapsed": false
   },
   "outputs": [],
   "source": [
    "from keras.layers import Input, Dense, Conv2D, MaxPooling2D, UpSampling2D\n",
    "from keras.models import Model\n",
    "from keras import backend as K\n",
    "from keras.callbacks import ModelCheckpoint\n",
    "import os.path\n",
    "from keras.preprocessing.image import ImageDataGenerator\n",
    "\n",
    "def fixed_generator(generator):\n",
    "    for batch in generator:\n",
    "        yield (batch, batch)\n",
    "\n",
    "img_width, img_height = 256, 256\n",
    "\n",
    "if K.image_data_format() == 'channels_first':\n",
    "    input_shape = (3, img_width, img_height)\n",
    "else:\n",
    "    input_shape = (img_width, img_height, 3)\n",
    "input_img = Input(shape=input_shape)\n",
    "\n",
    "# Block 1\n",
    "x = Conv2D(64, (3, 3), activation='relu', padding='same', name='block1_conv1')(input_img)\n",
    "x = Conv2D(64, (3, 3), activation='relu', padding='same', name='block1_conv2')(x)\n",
    "x = MaxPooling2D((2, 2), name='block1_pool')(x)\n",
    "\n",
    "# Block 2\n",
    "x = Conv2D(128, (3, 3), activation='relu', padding='same', name='block2_conv1')(x)\n",
    "x = Conv2D(128, (3, 3), activation='relu', padding='same', name='block2_conv2')(x)\n",
    "x = MaxPooling2D((2, 2), name='block2_pool')(x)\n",
    "\n",
    "# Block 3\n",
    "x = Conv2D(256, (3, 3), activation='relu', padding='same', name='block3_conv1')(x)\n",
    "x = Conv2D(256, (3, 3), activation='relu', padding='same', name='block3_conv2')(x)\n",
    "x = Conv2D(256, (3, 3), activation='relu', padding='same', name='block3_conv3')(x)\n",
    "x = MaxPooling2D((2, 2), name='block3_pool')(x)\n",
    "\n",
    "# Block 4\n",
    "x = Conv2D(512, (3, 3), activation='relu', padding='same', name='block4_conv1')(x)\n",
    "x = Conv2D(512, (3, 3), activation='relu', padding='same', name='block4_conv2')(x)\n",
    "x = Conv2D(512, (3, 3), activation='relu', padding='same', name='block4_conv3')(x)\n",
    "x = MaxPooling2D((2, 2), name='block4_pool')(x)\n",
    "\n",
    "# Block 5\n",
    "x = Conv2D(512, (3, 3), activation='relu', padding='same', name='block5_conv1')(x)\n",
    "x = Conv2D(512, (3, 3), activation='relu', padding='same', name='block5_conv2')(x)\n",
    "x = Conv2D(512, (3, 3), activation='relu', padding='same', name='block5_conv3')(x)\n",
    "encoded = MaxPooling2D((2, 2), name='block5_pool')(x)\n",
    "\n",
    "x = UpSampling2D((2, 2))(encoded)\n",
    "x = Conv2D(512, (3, 3), activation='relu', padding='same', name='decode_block5_conv3')(x)\n",
    "x = Conv2D(512, (3, 3), activation='relu', padding='same', name='decode_block5_conv2')(x)\n",
    "x = Conv2D(512, (3, 3), activation='relu', padding='same', name='decode_block5_conv1')(x)\n",
    "x = UpSampling2D((2, 2))(x)\n",
    "x = Conv2D(512, (3, 3), activation='relu', padding='same', name='decode_block4_conv3')(x)\n",
    "x = Conv2D(512, (3, 3), activation='relu', padding='same', name='decode_block4_conv2')(x)\n",
    "x = Conv2D(512, (3, 3), activation='relu', padding='same', name='decode_block4_conv1')(x)\n",
    "x = UpSampling2D((2, 2))(x)\n",
    "x = Conv2D(256, (3, 3), activation='relu', padding='same', name='decode_block3_conv3')(x)\n",
    "x = Conv2D(256, (3, 3), activation='relu', padding='same', name='decode_block3_conv2')(x)\n",
    "x = Conv2D(256, (3, 3), activation='relu', padding='same', name='decode_block3_conv1')(x)\n",
    "x = UpSampling2D((2, 2))(x)\n",
    "x = Conv2D(128, (3, 3), activation='relu', padding='same', name='decode_block2_conv2')(x)\n",
    "x = Conv2D(128, (3, 3), activation='relu', padding='same', name='decode_block2_conv1')(x)\n",
    "x = UpSampling2D((2, 2))(x)\n",
    "x = Conv2D(64, (3, 3), activation='relu', padding='same', name='decode_block1_conv2')(x)\n",
    "x = Conv2D(64, (3, 3), activation='relu', padding='same', name='decode_block1_conv1')(x)\n",
    "decoded = Conv2D(3, (3, 3), activation='sigmoid', padding='same')(x)\n",
    "autoencoder = Model(input_img, decoded)\n",
    "weights_file=\"/Users/pavelgulaev/Desktop/cae_vgg16.best.hdf5\"\n",
    "if (os.path.isfile(weights_file)):\n",
    "    autoencoder.load_weights(weights_file)\n",
    "autoencoder.compile(optimizer='adadelta', loss='mse')"
   ]
  },
  {
   "cell_type": "markdown",
   "metadata": {},
   "source": [
    "Определение ошибок декодирования обученного автокодировщика"
   ]
  },
  {
   "cell_type": "code",
   "execution_count": null,
   "metadata": {
    "collapsed": false
   },
   "outputs": [],
   "source": [
    "import matplotlib.pyplot as plt\n",
    "import numpy as np\n",
    "import collections\n",
    "scores = {}\n",
    "validation_shock_data_dir = '/Users/pavelgulaev/Desktop/Диплом/Шок-картинки/shock_pics2'\n",
    "batch_size = 1\n",
    "shock_pics_count = 240\n",
    "random_pics_count = 320\n",
    "validation_random_data_dir = '/Users/pavelgulaev/Desktop/Диплом/Шок-картинки/random_pics2'\n",
    "test_datagen = ImageDataGenerator(rescale=1. / 255)\n",
    "validation_generator = test_datagen.flow_from_directory(\n",
    "    validation_shock_data_dir,\n",
    "    target_size=(img_width, img_height),\n",
    "    batch_size=batch_size,\n",
    "    class_mode=None)\n",
    "for i in xrange(0,shock_pics_count):\n",
    "    img = next(validation_generator)\n",
    "    scores[autoencoder.evaluate(img,img,batch_size=1)]=1\n",
    "\n",
    "test_datagen = ImageDataGenerator(rescale=1. / 255)\n",
    "validation_generator = test_datagen.flow_from_directory(\n",
    "    validation_random_data_dir,\n",
    "    target_size=(img_width, img_height),\n",
    "    batch_size=batch_size,\n",
    "    class_mode=None)\n",
    "for i in xrange(0,random_pics_count):\n",
    "    img = next(validation_generator)\n",
    "    scores[autoencoder.evaluate(img,img,batch_size=1)]=0\n",
    "oscores = collections.OrderedDict(sorted(scores.items()))"
   ]
  },
  {
   "cell_type": "markdown",
   "metadata": {},
   "source": [
    "Алгоритм нахождения барьерного порога, в данном коде для CAE с использованием VGG16."
   ]
  },
  {
   "cell_type": "code",
   "execution_count": null,
   "metadata": {
    "collapsed": false
   },
   "outputs": [],
   "source": [
    "tp = 0\n",
    "tn = random_pics_count\n",
    "fp = 0\n",
    "fn = shock_pics_count\n",
    "best_threshold = 0.0\n",
    "f1 = 0.0\n",
    "best_f1 = 0.0\n",
    "for k, v in oscores.items():\n",
    "    if (v==1):\n",
    "        tp+=1\n",
    "        fn-=1\n",
    "    if (v==0):\n",
    "        fp+=1\n",
    "        tn-=1\n",
    "    if (tp==0):\n",
    "        continue\n",
    "    precision = 1.0 * tp / (tp+fp)\n",
    "    recall = 1.0 * tp / (tp+fn)\n",
    "    f1 = 2 * precision * recall / (precision + recall)\n",
    "    if (f1 > best_f1):\n",
    "        best_f1 = f1\n",
    "        best_threshold = k\n",
    "print best_f1, best_threshold"
   ]
  }
 ],
 "metadata": {
  "anaconda-cloud": {},
  "kernelspec": {
   "display_name": "Python [conda env:keras_tf]",
   "language": "python",
   "name": "conda-env-keras_tf-py"
  },
  "language_info": {
   "codemirror_mode": {
    "name": "ipython",
    "version": 2
   },
   "file_extension": ".py",
   "mimetype": "text/x-python",
   "name": "python",
   "nbconvert_exporter": "python",
   "pygments_lexer": "ipython2",
   "version": "2.7.13"
  }
 },
 "nbformat": 4,
 "nbformat_minor": 1
}
